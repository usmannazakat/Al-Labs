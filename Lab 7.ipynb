{
  "nbformat": 4,
  "nbformat_minor": 0,
  "metadata": {
    "colab": {
      "provenance": [],
      "authorship_tag": "ABX9TyMP5eu3g33X8UTxrtQcH1dC",
      "include_colab_link": true
    },
    "kernelspec": {
      "name": "python3",
      "display_name": "Python 3"
    },
    "language_info": {
      "name": "python"
    }
  },
  "cells": [
    {
      "cell_type": "markdown",
      "metadata": {
        "id": "view-in-github",
        "colab_type": "text"
      },
      "source": [
        "<a href=\"https://colab.research.google.com/github/usmannazakat/Usman-Al-Labs/blob/main/Lab%207.ipynb\" target=\"_parent\"><img src=\"https://colab.research.google.com/assets/colab-badge.svg\" alt=\"Open In Colab\"/></a>"
      ]
    },
    {
      "cell_type": "markdown",
      "source": [
        "# IF STATEMENT"
      ],
      "metadata": {
        "id": "2mPh05TQYvdc"
      }
    },
    {
      "cell_type": "code",
      "execution_count": 7,
      "metadata": {
        "colab": {
          "base_uri": "https://localhost:8080/"
        },
        "id": "7OFqATv3YOKM",
        "outputId": "11e922e6-69c9-4048-dd68-2cf017c9904d"
      },
      "outputs": [
        {
          "output_type": "stream",
          "name": "stdout",
          "text": [
            "First Division\n",
            "Grade C\n",
            "Done\n"
          ]
        }
      ],
      "source": [
        "number=70\n",
        "if number>=60:\n",
        "  print(\"First Division\")\n",
        "if number>90:\n",
        "  print(\"Grade A\")\n",
        "if number>80:\n",
        "  print(\"Grade B\")\n",
        "if number>60:\n",
        "  print(\"Grade C\")\n",
        "\n",
        "print(\"Done\")"
      ]
    },
    {
      "cell_type": "markdown",
      "source": [
        "# Nested IF"
      ],
      "metadata": {
        "id": "b0J3mhugZqUk"
      }
    },
    {
      "cell_type": "code",
      "source": [
        "temp = 50\n",
        "if temp >=30:\n",
        "  print(\"Hot Temprature\")\n",
        "  if temp>40:\n",
        "    print(\"AC must be ON\")\n",
        "\n",
        "print(\"All Done\")"
      ],
      "metadata": {
        "colab": {
          "base_uri": "https://localhost:8080/"
        },
        "id": "A1Up_yPOZibx",
        "outputId": "d7f1d156-961b-4fc8-a728-5669f66bbce3"
      },
      "execution_count": 4,
      "outputs": [
        {
          "output_type": "stream",
          "name": "stdout",
          "text": [
            "Hot Temprature\n",
            "AC must be ON\n",
            "All Done\n"
          ]
        }
      ]
    },
    {
      "cell_type": "markdown",
      "source": [
        "# IF ELse"
      ],
      "metadata": {
        "id": "0V7pmJCVaTXH"
      }
    },
    {
      "cell_type": "code",
      "source": [
        "age = 17\n",
        "if age > 18:\n",
        "  print(\"Eligible for National ID card.\")\n",
        "else:\n",
        "  print(\"Not Eligible.\")\n",
        "\n",
        "print(\"All Done.\")"
      ],
      "metadata": {
        "colab": {
          "base_uri": "https://localhost:8080/"
        },
        "id": "ZpS6zSmdaLJV",
        "outputId": "f9c630f3-2e7e-4bb3-bb05-8e6b123f6e0f"
      },
      "execution_count": 9,
      "outputs": [
        {
          "output_type": "stream",
          "name": "stdout",
          "text": [
            "Not Eligible.\n",
            "All Done.\n"
          ]
        }
      ]
    },
    {
      "cell_type": "markdown",
      "source": [
        "# IF ELSE"
      ],
      "metadata": {
        "id": "5fZaUClEa-9-"
      }
    },
    {
      "cell_type": "code",
      "source": [
        "num =3\n",
        "if num<1:\n",
        "  print(\"Number is less than 1\")\n",
        "  if num==0:\n",
        "    print(\"Number is Null\")\n",
        "  else:\n",
        "    print(\"Number is Negative\")\n",
        "else:\n",
        "  print(\"Number is Positive\")"
      ],
      "metadata": {
        "colab": {
          "base_uri": "https://localhost:8080/"
        },
        "id": "SBnUuPU_amv_",
        "outputId": "49381e00-8a2e-45bc-aa54-9daec15a3d6a"
      },
      "execution_count": 16,
      "outputs": [
        {
          "output_type": "stream",
          "name": "stdout",
          "text": [
            "Number is Positive\n"
          ]
        }
      ]
    },
    {
      "cell_type": "code",
      "source": [],
      "metadata": {
        "id": "9Tzv3I2ncJcY"
      },
      "execution_count": null,
      "outputs": []
    }
  ]
}