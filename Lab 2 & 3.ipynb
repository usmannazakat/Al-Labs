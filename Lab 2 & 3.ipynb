{
  "metadata": {
    "kernelspec": {
      "name": "python",
      "display_name": "Python (Pyodide)",
      "language": "python"
    },
    "language_info": {
      "codemirror_mode": {
        "name": "python",
        "version": 3
      },
      "file_extension": ".py",
      "mimetype": "text/x-python",
      "name": "python",
      "nbconvert_exporter": "python",
      "pygments_lexer": "ipython3",
      "version": "3.8"
    },
    "colab": {
      "provenance": []
    }
  },
  "nbformat_minor": 4,
  "nbformat": 4,
  "cells": [
    {
      "cell_type": "markdown",
      "source": "# **Programming for AI**\n  # **LAB 2 and 3**\n# Name: Usman Nazakat\n# Department: AI - Blue\n# Reg no: B22F0240AI018\n# Semester: 4\n\n",
      "metadata": {
        "id": "KQJmcKH5_MRx"
      }
    },
    {
      "cell_type": "markdown",
      "source": "# Task 1\n1.\tPrint at least 5 types of data type",
      "metadata": {
        "id": "3Pr7OoC7_7t3"
      }
    },
    {
      "cell_type": "code",
      "source": "#Five variables of INTEGER Data Type\n\nint_1=int(5)\nint_2=int(8)\nint_3=int(400)\nint_4=int(987)\nint_5=int(0)\nprint(int_1, type(int_1))   #Value of integer-1 and its DataType\nprint(int_2, type(int_2))   #Value of integer-2 and its DataType\nprint(int_3, type(int_3))   #Value of integer-3 and its DataType\nprint(int_4, type(int_4))   #Value of integer-4 and its DataType\nprint(int_5, type(int_5))   #Value of integer-5 and its DataType\n",
      "metadata": {
        "colab": {
          "base_uri": "https://localhost:8080/"
        },
        "id": "yRIcHLamUqVw",
        "outputId": "31026909-5092-4a16-9931-fd3df2cdee93"
      },
      "outputs": [
        {
          "output_type": "stream",
          "name": "stdout",
          "text": [
            "5 <class 'int'>\n",
            "8 <class 'int'>\n",
            "400 <class 'int'>\n",
            "987 <class 'int'>\n",
            "0 <class 'int'>\n"
          ]
        }
      ],
      "execution_count": 8
    },
    {
      "cell_type": "code",
      "source": "#Five variables of FLOAT Data Type\nfloat_1 = 0.6\nfloat_2 = 8.9\nfloat_3 = 0.8667\nfloat_4 = 3.14\nfloat_5 = 987.9\nprint(float_1, type(float_1) )   #Value of Float-1 and its DataType\nprint(float_2, type(float_2) )   #Value of Float-2 and its DataType\nprint(float_3, type(float_3) )   #Value of Float-3 and its DataType\nprint(float_4, type(float_4) )   #Value of Float-4 and its DataType\nprint(float_5, type(float_5) )   #Value of Float-5 and its DataType",
      "metadata": {
        "colab": {
          "base_uri": "https://localhost:8080/"
        },
        "id": "lRdtgZlzDNQ9",
        "outputId": "b8128056-5f41-4765-fabd-697c538acb72"
      },
      "outputs": [
        {
          "output_type": "stream",
          "name": "stdout",
          "text": [
            "0.6 <class 'float'>\n",
            "8.9 <class 'float'>\n",
            "0.8667 <class 'float'>\n",
            "3.14 <class 'float'>\n",
            "987.9 <class 'float'>\n"
          ]
        }
      ],
      "execution_count": 9
    },
    {
      "cell_type": "code",
      "source": "#Five variables of COMPLEX Data Type\ncomplex_1 = 5+3j\ncomplex_2 = 8.9+9j\ncomplex_3 = 10+0.8667j\ncomplex_4 = 3.14+1j\ncomplex_5 = 987.9j\nprint(complex_1, type(complex_1) )   #Value of complex-1 and its DataType\nprint(complex_2, type(complex_2) )   #Value of complex-2 and its DataType\nprint(complex_3, type(complex_3) )   #Value of complex-3 and its DataType\nprint(complex_4, type(complex_4) )   #Value of complex-4 and its DataType\nprint(complex_5, type(complex_5) )   #Value of complex-5 and its DataType",
      "metadata": {
        "colab": {
          "base_uri": "https://localhost:8080/"
        },
        "id": "1shicfErDbUW",
        "outputId": "a7888fec-1edf-4ff0-bda7-afcde0f2a33a"
      },
      "outputs": [
        {
          "output_type": "stream",
          "name": "stdout",
          "text": [
            "(5+3j) <class 'complex'>\n",
            "(8.9+9j) <class 'complex'>\n",
            "(10+0.8667j) <class 'complex'>\n",
            "(3.14+1j) <class 'complex'>\n",
            "987.9j <class 'complex'>\n"
          ]
        }
      ],
      "execution_count": 11
    },
    {
      "cell_type": "markdown",
      "source": "# Task 2\n2.\tWrite example of type conversion for each ( minimum 3)",
      "metadata": {
        "id": "XbTNKLpKFxHy"
      }
    },
    {
      "cell_type": "code",
      "source": "#Type Conversion\n\nx=1     #integer\ny=2.42  #float\nz=9+1j  #complex\n\nx1 = float(x)  #integer to float\ny1 = complex(y) #float to complex\nz1 = int(y) #float to integer\n\nprint(x1, type(x1)) #displaying value of x1 and its datatype\nprint(y1, type(y1)) #displaying value of y1 and its datatype\nprint(z1, type(z1)) #displaying value of z1 and its datatype\n",
      "metadata": {
        "colab": {
          "base_uri": "https://localhost:8080/"
        },
        "id": "0PTNptEhF6Jt",
        "outputId": "44a31492-17e3-4c28-86c3-e76a528eb2a9"
      },
      "outputs": [
        {
          "output_type": "stream",
          "name": "stdout",
          "text": [
            "1.0 <class 'float'>\n",
            "(2.42+0j) <class 'complex'>\n",
            "2 <class 'int'>\n"
          ]
        }
      ],
      "execution_count": 15
    },
    {
      "cell_type": "markdown",
      "source": "# Task 3\n3.\tAssign multiple strings to single variable with your name , registration number, program , semester etc",
      "metadata": {
        "id": "y5t4DquLKUyV"
      }
    },
    {
      "cell_type": "code",
      "source": "#Assigning multiple strings to single variable\nsingle_Var=\"\"\"\nname= Osman\nreg no= B22F0240AI018\nprogram= Artificial Intelligence\n\"\"\"\nprint(single_Var) #printing the strings",
      "metadata": {
        "colab": {
          "base_uri": "https://localhost:8080/"
        },
        "id": "usMti2ROI-aS",
        "outputId": "70ce5cbd-1907-4e70-ce4a-4dcbd42222d4"
      },
      "outputs": [
        {
          "output_type": "stream",
          "name": "stdout",
          "text": [
            "\n",
            "name= Osman\n",
            "reg no= B22F0240AI018\n",
            "program= Artificial Intelligence\n",
            "\n"
          ]
        }
      ],
      "execution_count": 20
    },
    {
      "cell_type": "markdown",
      "source": "# Task 4\n4.\tWrite Your country name and access the last 3 characters",
      "metadata": {
        "id": "YGlIV4-WKn7Q"
      }
    },
    {
      "cell_type": "code",
      "source": "#assigning the country name to variable\ncountry= \"pakistan\"\n\n#accessing the last 3 characters of variable \"country\"\nlast_3_chracter=country[-3:]\nprint(country)    #displaying the actual variable\nprint(last_3_chracter)    #displaying the last 3 characters of variable \"country\"",
      "metadata": {
        "colab": {
          "base_uri": "https://localhost:8080/"
        },
        "id": "9nZNHxPUKx_w",
        "outputId": "7c2bdb1b-f10c-410e-c7d9-657ffdf847bc"
      },
      "outputs": [
        {
          "output_type": "stream",
          "name": "stdout",
          "text": [
            "pakistan\n",
            "tan\n"
          ]
        }
      ],
      "execution_count": 17
    },
    {
      "cell_type": "markdown",
      "source": "# Task 5\n5.\tWrite code and observe using len() function it count space or not.",
      "metadata": {
        "id": "_QcnXE7GKz1S"
      }
    },
    {
      "cell_type": "code",
      "source": "#assigning string to variable\nstring1=\"This is string\"\n\n# using len() function and printing\n#len() is used to find the length of string\n\nprint(len(string1))",
      "metadata": {
        "colab": {
          "base_uri": "https://localhost:8080/"
        },
        "id": "ehJa8kU4K6ze",
        "outputId": "3fee822a-37b0-4ae7-bc4f-8cbf45c71acc"
      },
      "outputs": [
        {
          "output_type": "stream",
          "name": "stdout",
          "text": [
            "14\n"
          ]
        }
      ],
      "execution_count": 18
    },
    {
      "cell_type": "markdown",
      "source": "# Task 6\n6.\tWrite code to access the 2nd and 3rd character of your name using negative indexes.",
      "metadata": {
        "id": "e4R59yyWK9gH"
      }
    },
    {
      "cell_type": "code",
      "source": "\nmyName=\"Usman\"   #Assigning string to varible \"myName\"\n#access the 2nd and 3rd character\nsecondChar= myName[-2]   #access the 2nd character of \"myName\"\nthirdChar= myName[-3]    #access the 3rd character of \"myName\"\nprint(secondChar, thirdChar)     #printing the characters",
      "metadata": {
        "colab": {
          "base_uri": "https://localhost:8080/"
        },
        "id": "JsZPaoI6LHix",
        "outputId": "0280f010-60d8-414e-d064-ee57a74f487e"
      },
      "outputs": [
        {
          "output_type": "stream",
          "name": "stdout",
          "text": [
            "a m\n"
          ]
        }
      ],
      "execution_count": 21
    },
    {
      "cell_type": "markdown",
      "source": "# Task 7\n7.\tWrite python code in which you pass index number to format() function and arguments must be 4 and same code without indexes.",
      "metadata": {
        "id": "DlUASpXBLISy"
      }
    },
    {
      "cell_type": "code",
      "source": "# Descriptive format string explaining the content and placeholders\nformatted_message = \"The {position} arguments are: {arg1}, {arg2}, {arg3}, and {arg4}\"\n\n# Arguments to pass\nfirst_argument = \"first\"\nsecond_argument = \"second\"\nthird_argument = \"third\"\nfourth_argument = \"fourth\"\n\n# Format the message using arguments\nformatted_message = formatted_message.format(position=\"four\", arg1=first_argument,arg2=second_argument, arg3=third_argument,arg4=fourth_argument)\n\n# Print the formatted message\nprint(\"Indexed format:\", formatted_message)\n",
      "metadata": {
        "colab": {
          "base_uri": "https://localhost:8080/"
        },
        "id": "LkEI8v60L1XS",
        "outputId": "53d764cc-4cd1-4d62-eebe-99433c185ff8"
      },
      "outputs": [
        {
          "output_type": "stream",
          "name": "stdout",
          "text": [
            "Indexed format: The four arguments are: first, second, third, and fourth\n"
          ]
        }
      ],
      "execution_count": 25
    },
    {
      "cell_type": "markdown",
      "source": "# Task 8\n8.\tTake input from user and  than display it like “John age is: age”",
      "metadata": {
        "id": "InqL5yurL19Z"
      }
    },
    {
      "cell_type": "code",
      "source": "name = input(\"Enter your Name : \")\nage = input(\"Enter your Age : \")\n\nprint(name +\" age is:\" + age)\n",
      "metadata": {
        "colab": {
          "base_uri": "https://localhost:8080/"
        },
        "id": "ddkHJ9FHb4fk",
        "outputId": "9cbf613a-7589-4417-940a-2173cf2e11ad"
      },
      "outputs": [
        {
          "output_type": "stream",
          "name": "stdout",
          "text": [
            "Enter your Name : Osman\n",
            "Enter your Age : 19\n",
            "Osman age is:19\n"
          ]
        }
      ],
      "execution_count": 24
    },
    {
      "cell_type": "markdown",
      "source": "# Conclusion\nIn this lab we done with \"int, float and complex\" data types in python and perform some examples and function on them. we also did type casting between these data types.",
      "metadata": {
        "id": "g-1ADuMfih6u"
      }
    },
    {
      "cell_type": "code",
      "source": "",
      "metadata": {
        "trusted": true
      },
      "outputs": [],
      "execution_count": null
    }
  ]
}