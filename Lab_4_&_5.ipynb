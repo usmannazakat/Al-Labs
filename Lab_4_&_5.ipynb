{
  "cells": [
    {
      "cell_type": "markdown",
      "metadata": {
        "id": "view-in-github",
        "colab_type": "text"
      },
      "source": [
        "<a href=\"https://colab.research.google.com/github/usmannazakat/Usman-Al-Labs/blob/main/Lab_4_%26_5.ipynb\" target=\"_parent\"><img src=\"https://colab.research.google.com/assets/colab-badge.svg\" alt=\"Open In Colab\"/></a>"
      ]
    },
    {
      "cell_type": "markdown",
      "source": [
        "# Programming for Artificial Intelligence\n",
        "# LAB 4 and 5\n",
        "# Name: Usman Nazakat\n",
        "# Department: AI - Blue\n",
        "# Reg no: B22F0240AI018\n",
        "# Semester: 4"
      ],
      "metadata": {
        "id": "SfvS9Mdcrghl"
      }
    },
    {
      "cell_type": "markdown",
      "source": [
        "# Task 1\n",
        "**Access List Items:**\n",
        "1.\tCreate a list of fruits.\n",
        "2.\tPrint the first and last items of the list.\n"
      ],
      "metadata": {
        "id": "dyr29a9Ec3jh"
      }
    },
    {
      "cell_type": "code",
      "execution_count": null,
      "metadata": {
        "colab": {
          "base_uri": "https://localhost:8080/"
        },
        "id": "F8YSgTNu_luI",
        "outputId": "e0e00b6f-f234-4dd4-9818-35a58863e3a1"
      },
      "outputs": [
        {
          "name": "stdout",
          "output_type": "stream",
          "text": [
            "First_Item: cherry\n",
            "Last_Item: Watermelon\n"
          ]
        }
      ],
      "source": [
        "#Task 01\n",
        "Fruits_List= [\"cherry\", \"mango\", \"apple\", \"Watermelon\"]  #Creating List\n",
        "print(\"First_Item:\", Fruits_List[0])\n",
        "print(\"Last_Item:\", Fruits_List[-1])"
      ]
    },
    {
      "cell_type": "markdown",
      "source": [
        "# Task 2\n",
        "**Change List Items:**\n",
        "1.\tCreate a list of colors.\n",
        "2.\tChange the second item in the list to \"blue\".\n"
      ],
      "metadata": {
        "id": "5n_iJnYUc3g_"
      }
    },
    {
      "cell_type": "code",
      "execution_count": null,
      "metadata": {
        "colab": {
          "base_uri": "https://localhost:8080/"
        },
        "id": "TtSEFucRAIbw",
        "outputId": "6281e1e4-dd4e-438c-f9cb-7d7de4bd782e"
      },
      "outputs": [
        {
          "name": "stdout",
          "output_type": "stream",
          "text": [
            "['Black', 'Blue', 'Green']\n"
          ]
        }
      ],
      "source": [
        "# Task 02\n",
        "Colors_List = [\"Black\", \"White\", \"Green\"]\n",
        "Colors_List[1] = \"Blue\"\n",
        "print(Colors_List)"
      ]
    },
    {
      "cell_type": "markdown",
      "source": [
        "# Task 3\n",
        "**Add List Items:**\n",
        "1.\tCreate a list of numbers.\n",
        "2.\tAdd the number 10 at the end of the list.\n"
      ],
      "metadata": {
        "id": "-H1dbVmrc62-"
      }
    },
    {
      "cell_type": "code",
      "execution_count": null,
      "metadata": {
        "colab": {
          "base_uri": "https://localhost:8080/"
        },
        "id": "F-hdxE2VAkDE",
        "outputId": "2b422225-d33b-4c8d-85e6-c232c3860664"
      },
      "outputs": [
        {
          "name": "stdout",
          "output_type": "stream",
          "text": [
            "[9, 8, 7, 6, 5, 10]\n"
          ]
        }
      ],
      "source": [
        "# Task 03\n",
        "Numbers_List = [9, 8, 7, 6, 5]\n",
        "Numbers_List.append(10)\n",
        "print(Numbers_List)"
      ]
    },
    {
      "cell_type": "markdown",
      "source": [
        "# Task 4\n",
        "**Remove List Items:**\n",
        "1.\tCreate a list of animals.\n",
        "2.\tRemove the third item from the list.\n"
      ],
      "metadata": {
        "id": "zjSuuRZdc-o_"
      }
    },
    {
      "cell_type": "code",
      "execution_count": null,
      "metadata": {
        "colab": {
          "base_uri": "https://localhost:8080/"
        },
        "id": "IzDF04KUBB6R",
        "outputId": "ab72087e-dfd9-4809-ee5f-f9b68ebe848e"
      },
      "outputs": [
        {
          "name": "stdout",
          "output_type": "stream",
          "text": [
            "['Deer', 'Dog', 'Buffallo']\n"
          ]
        }
      ],
      "source": [
        "# Task 04\n",
        "Animals_List = [\"Deer\", \"Dog\", \"Ox\", \"Buffallo\"]\n",
        "del Animals_List[2]\n",
        "print(Animals_List)"
      ]
    },
    {
      "cell_type": "markdown",
      "source": [
        "# Task 5\n",
        "**Loop Lists:**\n",
        "1.\tCreate a list of cities.\n",
        "2.\tLoop through the list and print each city.\n"
      ],
      "metadata": {
        "id": "ynqpKUXQc_QY"
      }
    },
    {
      "cell_type": "code",
      "execution_count": null,
      "metadata": {
        "colab": {
          "base_uri": "https://localhost:8080/"
        },
        "id": "mHdnuGHXBdCy",
        "outputId": "c4964ee7-0267-49a1-ff38-1631fb8b6edc"
      },
      "outputs": [
        {
          "name": "stdout",
          "output_type": "stream",
          "text": [
            "Islamabad\n",
            "Lahore\n",
            "Attock\n"
          ]
        }
      ],
      "source": [
        "# Task 05\n",
        "Cities_List = [\"Islamabad\", \"Lahore\", \"Attock\"]\n",
        "for city in Cities_List:\n",
        "    print(city)"
      ]
    },
    {
      "cell_type": "markdown",
      "source": [
        "# Task 6\n",
        "**List Comprehension:**\n",
        "1.\tCreate a list of numbers from 1 to 10.\n",
        "2.\tUse list comprehension to create a new list containing the square of each number.\n"
      ],
      "metadata": {
        "id": "5JPuDJl3dAJ_"
      }
    },
    {
      "cell_type": "code",
      "execution_count": null,
      "metadata": {
        "id": "cXq_GT1XBkGh",
        "colab": {
          "base_uri": "https://localhost:8080/"
        },
        "outputId": "89ab0397-af19-4fa1-c886-be796ef0b187"
      },
      "outputs": [
        {
          "output_type": "stream",
          "name": "stdout",
          "text": [
            "[1, 4, 9, 16, 25, 36, 49, 64, 81, 100]\n"
          ]
        }
      ],
      "source": [
        "# Task 06\n",
        "numbers = [i for i in range(1, 11)]\n",
        "squared_numbers = [x ** 2 for x in numbers]\n",
        "print(squared_numbers)"
      ]
    },
    {
      "cell_type": "markdown",
      "source": [
        "# Task 7\n",
        "**Sort Lists:**\n",
        "1.\tCreate a list of names.\n",
        "2.\tSort the list alphabetically.\n"
      ],
      "metadata": {
        "id": "3amfNjGDdA_4"
      }
    },
    {
      "cell_type": "code",
      "execution_count": null,
      "metadata": {
        "colab": {
          "base_uri": "https://localhost:8080/"
        },
        "id": "yF0GGUWaCUCq",
        "outputId": "7325669c-1795-428f-eb2f-d278bd784814"
      },
      "outputs": [
        {
          "name": "stdout",
          "output_type": "stream",
          "text": [
            "['Ali', 'Haider', 'Hammad', 'Osman']\n"
          ]
        }
      ],
      "source": [
        "# Task 07\n",
        "Names_List = [\"Osman\", \"Haider\", \"Hammad\", \"Ali\"]\n",
        "Names_List.sort()\n",
        "print(Names_List)\n"
      ]
    },
    {
      "cell_type": "markdown",
      "source": [
        "# Task 8\n",
        "**Copy Lists:**\n",
        "1.\tCreate a list of fruits.\n",
        "2.\tCopy the list into a new list.\n"
      ],
      "metadata": {
        "id": "dwSK95xPdB22"
      }
    },
    {
      "cell_type": "code",
      "execution_count": null,
      "metadata": {
        "colab": {
          "base_uri": "https://localhost:8080/"
        },
        "id": "rLDN8GFLCu5M",
        "outputId": "1f4d62ed-cb20-4d62-8c58-06c5840a1ed4"
      },
      "outputs": [
        {
          "name": "stdout",
          "output_type": "stream",
          "text": [
            "['Cherry', 'Mango', 'Banana']\n"
          ]
        }
      ],
      "source": [
        "# Task 08\n",
        "\n",
        "Fruits_List = [\"Cherry\", \"Mango\", \"Banana\"]\n",
        "new_fruitsList = Fruits_List.copy()\n",
        "print(new_fruitsList)"
      ]
    },
    {
      "cell_type": "markdown",
      "source": [
        "# Task 9\n",
        "**Join Lists:**\n",
        "1.\tCreate two lists of numbers.\n",
        "2.\tJoin the two lists into a single list.\n"
      ],
      "metadata": {
        "id": "mnrhyBaUdCsQ"
      }
    },
    {
      "cell_type": "code",
      "execution_count": null,
      "metadata": {
        "colab": {
          "base_uri": "https://localhost:8080/"
        },
        "id": "B2a-QOP4DLRQ",
        "outputId": "7bbafad1-f5e5-449c-af94-bbc71835ea1e"
      },
      "outputs": [
        {
          "name": "stdout",
          "output_type": "stream",
          "text": [
            "[1, 2, 3, 4, 5, 6]\n"
          ]
        }
      ],
      "source": [
        "# Task 09\n",
        "List_1 = [1, 2, 3]\n",
        "List_2 = [4, 5, 6]\n",
        "Joined_List = List_1 + List_2\n",
        "print(Joined_List)"
      ]
    },
    {
      "cell_type": "markdown",
      "source": [
        "# Task 10\n",
        "**List Methods:**\n",
        "1.\tCreate a list of fruits.\n",
        "2.\tUse the append() method to add a new fruit to the list.\n",
        "3.\tUse the pop() method to remove the last fruit from the list.\n"
      ],
      "metadata": {
        "id": "WBJfbGFkdE0m"
      }
    },
    {
      "cell_type": "code",
      "execution_count": null,
      "metadata": {
        "colab": {
          "base_uri": "https://localhost:8080/"
        },
        "id": "E5_GM67yDiE_",
        "outputId": "5d8e16a1-e962-488f-ad8a-99389ac44b90"
      },
      "outputs": [
        {
          "name": "stdout",
          "output_type": "stream",
          "text": [
            "['Cherry', 'Mango', 'Banana', 'Orange']\n",
            "Last Fruit has been Removed fromo List: ['Cherry', 'Mango', 'Banana']\n"
          ]
        }
      ],
      "source": [
        "# Task 10\n",
        "\n",
        "Fruits_List = [\"Cherry\", \"Mango\", \"Banana\"]\n",
        "Fruits_List.append(\"Orange\")\n",
        "\n",
        "print(Fruits_List)\n",
        "Fruits_List.pop()\n",
        "print(\"Last Fruit has been Removed fromo List:\", Fruits_List)"
      ]
    },
    {
      "cell_type": "markdown",
      "source": [
        "# Task 11\n",
        "**Combining Lists and List Comprehension:**\n",
        "\n",
        "1.\tCreate two lists, one containing numbers from 1 to 5 and another containing numbers from 6 to 10.\n",
        "2.\tUse list comprehension to create a new list that contains the sum of corresponding elements from the two lists.\n"
      ],
      "metadata": {
        "id": "-pnRMBDedF9f"
      }
    },
    {
      "cell_type": "code",
      "execution_count": null,
      "metadata": {
        "id": "0YnCJbJfEXwn",
        "colab": {
          "base_uri": "https://localhost:8080/"
        },
        "outputId": "bdd01f80-a8e7-40f9-f968-ee2121b5df55"
      },
      "outputs": [
        {
          "output_type": "stream",
          "name": "stdout",
          "text": [
            "[7, 9, 11, 13, 15]\n"
          ]
        }
      ],
      "source": [
        "# Task 11\n",
        "\n",
        "List_1=[1, 2, 3, 4, 5]\n",
        "List_2=[6, 7, 8, 9, 10]\n",
        "sum_list = [x + y for x, y in zip(List_1, List_2)]\n",
        "print(sum_list)"
      ]
    },
    {
      "cell_type": "markdown",
      "source": [
        "# Task 12\n",
        "**Filtering and Sorting:**\n",
        "1. Create a list of numbers.\n",
        "2.\tUse list comprehension to create a new list containing only the even numbers from the original list.\n",
        "3.\tSort the new list in descending order.\n"
      ],
      "metadata": {
        "id": "1nflc-PudG3D"
      }
    },
    {
      "cell_type": "code",
      "execution_count": null,
      "metadata": {
        "colab": {
          "background_save": true
        },
        "id": "9y8fXAsfExck",
        "outputId": "eb56a5fd-3ce5-47dd-8f3c-090b292b62b2"
      },
      "outputs": [
        {
          "name": "stdout",
          "output_type": "stream",
          "text": [
            "[8, 6, 4, 2]\n"
          ]
        }
      ],
      "source": [
        "# Task 12\n",
        "\n",
        "Numbers_List = [1, 2, 3, 4, 5, 6, 7, 8]\n",
        "Even_Numbers = [x for x in Numbers_List if x % 2 == 0]\n",
        "Even_Numbers.sort(reverse=True)\n",
        "print(Even_Numbers)"
      ]
    },
    {
      "cell_type": "markdown",
      "source": [
        "# Task 13\n",
        "**List Slicing and Reversing:**\n",
        "1.\tCreate a list of numbers from 1 to 10.\n",
        "2.\tUse list slicing to create a new list containing only the even numbers from the original list, in reverse order.\n"
      ],
      "metadata": {
        "id": "W2P2B_sKdHj-"
      }
    },
    {
      "cell_type": "code",
      "execution_count": null,
      "metadata": {
        "id": "ksrye5h5EzsV",
        "colab": {
          "base_uri": "https://localhost:8080/"
        },
        "outputId": "95cb539b-f5d9-4d20-a0e0-05e9d1d5b699"
      },
      "outputs": [
        {
          "output_type": "stream",
          "name": "stdout",
          "text": [
            "[10, 8, 6, 4, 2]\n"
          ]
        }
      ],
      "source": [
        "# Task 13\n",
        "numbers = list(range(1, 11))\n",
        "even_reverse = numbers[-1::-2]\n",
        "print(even_reverse)\n"
      ]
    },
    {
      "cell_type": "markdown",
      "source": [
        "# Task 14\n",
        "**Combining Lists and List Methods:**\n",
        "1.\tCreate two lists, one containing even numbers and another containing odd numbers.\n",
        "2.\tUse list methods to combine the two lists into a single list, alternating between even and odd numbers.\n"
      ],
      "metadata": {
        "id": "4eWvbyzNdIY5"
      }
    },
    {
      "cell_type": "code",
      "execution_count": null,
      "metadata": {
        "id": "-WhMzUhcE1zQ",
        "colab": {
          "base_uri": "https://localhost:8080/"
        },
        "outputId": "662134ec-f37e-498d-fd26-122a51102405"
      },
      "outputs": [
        {
          "output_type": "stream",
          "name": "stdout",
          "text": [
            "[2, 1, 4, 3, 6, 5, 8, 7, 10, 9]\n"
          ]
        }
      ],
      "source": [
        "# Task 14\n",
        "\n",
        "even_numbers = [2, 4, 6, 8, 10]\n",
        "odd_numbers = [1, 3, 5, 7, 9]\n",
        "combined_list = []\n",
        "for even, odd in zip(even_numbers, odd_numbers):\n",
        "    combined_list.append(even)\n",
        "    combined_list.append(odd)\n",
        "print(combined_list)"
      ]
    }
  ],
  "metadata": {
    "colab": {
      "provenance": [],
      "authorship_tag": "ABX9TyPv1af2BRYg2lLkObxbkDUc",
      "include_colab_link": true
    },
    "kernelspec": {
      "display_name": "Python 3",
      "name": "python3"
    },
    "language_info": {
      "name": "python"
    }
  },
  "nbformat": 4,
  "nbformat_minor": 0
}