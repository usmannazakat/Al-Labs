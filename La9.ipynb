{
  "nbformat": 4,
  "nbformat_minor": 0,
  "metadata": {
    "colab": {
      "provenance": [],
      "authorship_tag": "ABX9TyP9ooT/4TE9uHZ49/Sye+a8",
      "include_colab_link": true
    },
    "kernelspec": {
      "name": "python3",
      "display_name": "Python 3"
    },
    "language_info": {
      "name": "python"
    }
  },
  "cells": [
    {
      "cell_type": "markdown",
      "metadata": {
        "id": "view-in-github",
        "colab_type": "text"
      },
      "source": [
        "<a href=\"https://colab.research.google.com/github/usmannazakat/Usman-Al-Labs/blob/main/La9.ipynb\" target=\"_parent\"><img src=\"https://colab.research.google.com/assets/colab-badge.svg\" alt=\"Open In Colab\"/></a>"
      ]
    },
    {
      "cell_type": "code",
      "execution_count": 1,
      "metadata": {
        "colab": {
          "base_uri": "https://localhost:8080/"
        },
        "id": "DtXn69vHrq3P",
        "outputId": "9dd56455-826e-42f3-c4ef-80f51581d44b"
      },
      "outputs": [
        {
          "output_type": "stream",
          "name": "stdout",
          "text": [
            "Hello\n",
            "Fun\n",
            "zip\n",
            "Hello\n",
            "Fun\n"
          ]
        }
      ],
      "source": [
        "##Programm 1\n",
        "\n",
        "def thing():\n",
        "    print(\"Hello\")\n",
        "    print(\"Fun\")\n",
        "\n",
        "thing()\n",
        "print(\"zip\")\n",
        "thing()"
      ]
    },
    {
      "cell_type": "code",
      "source": [
        "\n",
        "\n",
        "##Programm 2\n",
        "\n",
        "\n",
        "x=5\n",
        "print(\"Hello\")\n",
        "\n",
        "def print_lyrics():\n",
        "    print(\"I am ali, and i am ok\")\n",
        "    print(\"I sleep all the day  and work all night\")\n",
        "\n",
        "print(\"yo\")\n",
        "print_lyrics()\n",
        "x=x+2\n",
        "print(x)"
      ],
      "metadata": {
        "colab": {
          "base_uri": "https://localhost:8080/"
        },
        "id": "OPOPGzmYsV2Q",
        "outputId": "efd2eaad-5b2c-40f5-ea78-466aee27bf09"
      },
      "execution_count": 2,
      "outputs": [
        {
          "output_type": "stream",
          "name": "stdout",
          "text": [
            "Hello\n",
            "yo\n",
            "I am ali, and i am ok\n",
            "I sleep all the day  and work all night\n",
            "7\n"
          ]
        }
      ]
    },
    {
      "cell_type": "code",
      "source": [
        "\n",
        "##Programm 3\n",
        "\n",
        "def greet(lang):\n",
        "    if lang == \"es\":\n",
        "        print(\"Holla\")\n",
        "    elif lang == \"fr\":\n",
        "        print(\"Bonjour\")\n",
        "    else:\n",
        "        print(\"Hello\")\n",
        "\n",
        "greet(\"en\")\n",
        "greet(\"es\")\n",
        "greet(\"fr\")\n",
        "\n",
        "\n"
      ],
      "metadata": {
        "colab": {
          "base_uri": "https://localhost:8080/"
        },
        "id": "-oLH_iS1sY3f",
        "outputId": "820309b4-373b-4fcf-8760-14089f0522e2"
      },
      "execution_count": 3,
      "outputs": [
        {
          "output_type": "stream",
          "name": "stdout",
          "text": [
            "Hello\n",
            "Holla\n",
            "Bonjour\n"
          ]
        }
      ]
    },
    {
      "cell_type": "code",
      "source": [
        "\n",
        "##Programm 4\n",
        "def greet(lang):\n",
        "    if lang == \"es\":\n",
        "        return(\"Holla\")\n",
        "    elif lang == \"fr\":\n",
        "        return(\"Bonjour\")\n",
        "    else:\n",
        "          return(\"Hello\")\n",
        "\n",
        "print(greet(\"en\"), \"Ali\")\n",
        "print(greet(\"es\"), \"ahmed\")\n",
        "print(greet(\"fr\"), \"haider\")\n",
        "\n",
        "\n"
      ],
      "metadata": {
        "colab": {
          "base_uri": "https://localhost:8080/"
        },
        "id": "iD6pBA9YsdMd",
        "outputId": "4a9ed9e4-6b45-46cc-ef36-6585daf46eb3"
      },
      "execution_count": 4,
      "outputs": [
        {
          "output_type": "stream",
          "name": "stdout",
          "text": [
            "Hello Ali\n",
            "Holla ahmed\n",
            "Bonjour haider\n"
          ]
        }
      ]
    },
    {
      "cell_type": "code",
      "source": [
        "\n",
        "##Programm 5\n",
        "def addtwo(a, b):\n",
        "    added = a+b\n",
        "    return(added)\n",
        "\n",
        "x=addtwo(3, 7)\n",
        "print(x)\n",
        "\n"
      ],
      "metadata": {
        "colab": {
          "base_uri": "https://localhost:8080/"
        },
        "id": "KBI9K475shMl",
        "outputId": "d57c5f97-ddbf-4d8a-a9df-d1c0e6e9c47d"
      },
      "execution_count": 5,
      "outputs": [
        {
          "output_type": "stream",
          "name": "stdout",
          "text": [
            "10\n"
          ]
        }
      ]
    },
    {
      "cell_type": "code",
      "source": [],
      "metadata": {
        "id": "Cjew1ETNsmzH"
      },
      "execution_count": null,
      "outputs": []
    }
  ]
}